{
 "cells": [
  {
   "cell_type": "markdown",
   "id": "801c8dab",
   "metadata": {},
   "source": [
    "# AI Marketing Content Generator (MVP)\n",
    "\n",
    "This notebook allows you to generate **marketing images and videos** using **Stable Diffusion** and **ModelScope**, with a simple **Gradio UI**.\n",
    "\n",
    "### Features:\n",
    "- Image generation with Stable Diffusion\n",
    "- Video generation with ModelScope\n",
    "- Interactive UI using Gradio\n",
    "\n",
    "**Cost:** Free (Google Colab GPU + Open-source models)\n"
   ]
  },
  {
   "cell_type": "code",
   "execution_count": null,
   "id": "f5577031",
   "metadata": {},
   "outputs": [],
   "source": [
    "# Step 1: Install required libraries\n",
    "!pip install diffusers transformers accelerate safetensors gradio modelscope"
   ]
  },
  {
   "cell_type": "code",
   "execution_count": null,
   "id": "5c504cfa",
   "metadata": {},
   "outputs": [],
   "source": [
    "# Step 2: Import libraries\n",
    "import torch\n",
    "from diffusers import StableDiffusionPipeline\n",
    "from modelscope.pipelines import pipeline\n",
    "from modelscope.utils.constant import Tasks\n",
    "import gradio as gr"
   ]
  },
  {
   "cell_type": "code",
   "execution_count": null,
   "id": "a68d5f62",
   "metadata": {},
   "outputs": [],
   "source": [
    "# Step 3: Load models\n",
    "# Load Stable Diffusion for image generation\n",
    "pipe = StableDiffusionPipeline.from_pretrained(\"stabilityai/stable-diffusion-2-1\", torch_dtype=torch.float16)\n",
    "pipe.to(\"cuda\")\n",
    "\n",
    "# Load ModelScope for video generation\n",
    "video_gen = pipeline(Tasks.text_to_video, model='damo/text-to-video-synthesis')"
   ]
  },
  {
   "cell_type": "code",
   "execution_count": null,
   "id": "23679cb7",
   "metadata": {},
   "outputs": [],
   "source": [
    "# Step 4: Define generation functions\n",
    "def generate_image(prompt):\n",
    "    image = pipe(prompt).images[0]\n",
    "    image.save(\"generated_image.png\")\n",
    "    return image\n",
    "\n",
    "def generate_video(prompt):\n",
    "    result = video_gen({'text': prompt})\n",
    "    return result['video_path']"
   ]
  },
  {
   "cell_type": "code",
   "execution_count": null,
   "id": "dac571ad",
   "metadata": {},
   "outputs": [],
   "source": [
    "# Step 5: Launch Gradio UI\n",
    "with gr.Blocks() as demo:\n",
    "    gr.Markdown(\"## AI Marketing Content Generator\")\n",
    "    with gr.Row():\n",
    "        prompt_input = gr.Textbox(label=\"Enter your marketing prompt\")\n",
    "    with gr.Row():\n",
    "        img_output = gr.Image(label=\"Generated Image\")\n",
    "        vid_output = gr.Video(label=\"Generated Video\")\n",
    "    with gr.Row():\n",
    "        img_btn = gr.Button(\"Generate Image\")\n",
    "        vid_btn = gr.Button(\"Generate Video\")\n",
    "\n",
    "    img_btn.click(generate_image, inputs=prompt_input, outputs=img_output)\n",
    "    vid_btn.click(generate_video, inputs=prompt_input, outputs=vid_output)\n",
    "\n",
    "demo.launch()"
   ]
  }
 ],
 "metadata": {},
 "nbformat": 4,
 "nbformat_minor": 5
}
